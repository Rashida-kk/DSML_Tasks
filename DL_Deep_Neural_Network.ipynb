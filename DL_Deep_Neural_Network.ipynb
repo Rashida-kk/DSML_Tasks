{
  "nbformat": 4,
  "nbformat_minor": 0,
  "metadata": {
    "colab": {
      "provenance": []
    },
    "kernelspec": {
      "name": "python3",
      "display_name": "Python 3"
    },
    "language_info": {
      "name": "python"
    }
  },
  "cells": [
    {
      "cell_type": "code",
      "execution_count": 1,
      "metadata": {
        "id": "2HLzoh7tZ6jw"
      },
      "outputs": [],
      "source": [
        "import numpy as np\n",
        "import pandas as pd\n",
        "from sklearn.model_selection import train_test_split\n",
        "from sklearn.preprocessing import StandardScaler\n",
        "from sklearn.datasets import load_iris\n",
        "from keras.models import Sequential\n",
        "from keras.layers import Dense\n",
        "from keras.optimizers import Adam\n",
        "import tensorflow as tf"
      ]
    },
    {
      "cell_type": "markdown",
      "source": [
        "https://www.analyticsvidhya.com/blog/2021/10/a-comprehensive-guide-on-deep-learning-optimizers"
      ],
      "metadata": {
        "id": "r0bVUTqMa-o4"
      }
    },
    {
      "cell_type": "code",
      "source": [
        "# Load the Iris dataset\n",
        "iris = load_iris()\n",
        "X, y = iris.data, iris.target"
      ],
      "metadata": {
        "id": "VcWxm2LDa0E7"
      },
      "execution_count": 2,
      "outputs": []
    },
    {
      "cell_type": "code",
      "source": [
        "# Split the data into training and testing sets\n",
        "X_train, X_test, y_train, y_test = train_test_split(X, y, test_size=0.2, random_state=42)\n",
        "\n",
        "# Standardize the features\n",
        "scaler = StandardScaler()\n",
        "X_train = scaler.fit_transform(X_train)\n",
        "X_test = scaler.transform(X_test)\n",
        "\n",
        "# Convert labels to one-hot encoding\n",
        "y_train = tf.keras.utils.to_categorical(y_train, num_classes=3)\n",
        "y_test = tf.keras.utils.to_categorical(y_test, num_classes=3)"
      ],
      "metadata": {
        "id": "OVq9Cs3-bQA9"
      },
      "execution_count": 3,
      "outputs": []
    },
    {
      "cell_type": "code",
      "source": [
        "# Create a Deep Neural Network model\n",
        "model = Sequential()\n",
        "model.add(Dense(100, activation='relu', input_dim=4))\n",
        "model.add(Dense(50, activation='relu'))\n",
        "model.add(Dense(3, activation='softmax'))"
      ],
      "metadata": {
        "id": "3eci3Qd5bXQQ"
      },
      "execution_count": 4,
      "outputs": []
    },
    {
      "cell_type": "code",
      "source": [
        "X_train[0]"
      ],
      "metadata": {
        "id": "G21B-_39bYuw",
        "colab": {
          "base_uri": "https://localhost:8080/"
        },
        "outputId": "d8fb2c03-b42d-4f23-b188-3cbb14970178"
      },
      "execution_count": 5,
      "outputs": [
        {
          "output_type": "execute_result",
          "data": {
            "text/plain": [
              "array([-1.47393679,  1.20365799, -1.56253475, -1.31260282])"
            ]
          },
          "metadata": {},
          "execution_count": 5
        }
      ]
    },
    {
      "cell_type": "code",
      "source": [
        "150/32"
      ],
      "metadata": {
        "id": "Xvj4jyKibejX",
        "colab": {
          "base_uri": "https://localhost:8080/"
        },
        "outputId": "6d03c0f1-2b12-4878-e5b6-c25e2b055100"
      },
      "execution_count": 6,
      "outputs": [
        {
          "output_type": "execute_result",
          "data": {
            "text/plain": [
              "4.6875"
            ]
          },
          "metadata": {},
          "execution_count": 6
        }
      ]
    },
    {
      "cell_type": "code",
      "source": [
        "# Compile the model\n",
        "model.compile(optimizer=Adam(learning_rate=0.001), loss='categorical_crossentropy', metrics=['accuracy'])"
      ],
      "metadata": {
        "id": "wwgqiJcDbpPs"
      },
      "execution_count": 7,
      "outputs": []
    },
    {
      "cell_type": "code",
      "source": [
        "len(y_train)"
      ],
      "metadata": {
        "id": "nDMDp5opbypR",
        "colab": {
          "base_uri": "https://localhost:8080/"
        },
        "outputId": "5a385dfb-ffa0-4208-8451-fc9a32d9981e"
      },
      "execution_count": 8,
      "outputs": [
        {
          "output_type": "execute_result",
          "data": {
            "text/plain": [
              "120"
            ]
          },
          "metadata": {},
          "execution_count": 8
        }
      ]
    },
    {
      "cell_type": "code",
      "source": [
        "len(X_train)"
      ],
      "metadata": {
        "id": "8VZ3jtOKme8s",
        "colab": {
          "base_uri": "https://localhost:8080/"
        },
        "outputId": "fb5ecd1d-c905-4a1b-f0f1-cc88317bca59"
      },
      "execution_count": 9,
      "outputs": [
        {
          "output_type": "execute_result",
          "data": {
            "text/plain": [
              "120"
            ]
          },
          "metadata": {},
          "execution_count": 9
        }
      ]
    },
    {
      "cell_type": "markdown",
      "source": [
        "An epoch is composed of many iterations (or batches). Iterations: the number of batches needed to complete one Epoch. Batch Size: The number of training samples used in one iteration. Epoch: one full cycle through the training dataset"
      ],
      "metadata": {
        "id": "PIGFDoanmlze"
      }
    },
    {
      "cell_type": "code",
      "source": [
        "X_train.shape"
      ],
      "metadata": {
        "id": "MeuMDmHems5Z",
        "colab": {
          "base_uri": "https://localhost:8080/"
        },
        "outputId": "746ba711-ef99-48a6-d1c2-b846384c4ac6"
      },
      "execution_count": 10,
      "outputs": [
        {
          "output_type": "execute_result",
          "data": {
            "text/plain": [
              "(120, 4)"
            ]
          },
          "metadata": {},
          "execution_count": 10
        }
      ]
    },
    {
      "cell_type": "code",
      "source": [
        "y_train.shape"
      ],
      "metadata": {
        "id": "uZHJwERpnEph",
        "colab": {
          "base_uri": "https://localhost:8080/"
        },
        "outputId": "904d224c-c008-46c6-fc4c-54f41e45819b"
      },
      "execution_count": 11,
      "outputs": [
        {
          "output_type": "execute_result",
          "data": {
            "text/plain": [
              "(120, 3)"
            ]
          },
          "metadata": {},
          "execution_count": 11
        }
      ]
    },
    {
      "cell_type": "code",
      "source": [
        "150/32\n",
        "#So 4 iterations are required for 1 epoch(to pass the whole training dataset)."
      ],
      "metadata": {
        "colab": {
          "base_uri": "https://localhost:8080/"
        },
        "id": "9dtC5oi0knck",
        "outputId": "9c9ae253-cc47-48cd-8a09-ee2c9ea86f4c"
      },
      "execution_count": 12,
      "outputs": [
        {
          "output_type": "execute_result",
          "data": {
            "text/plain": [
              "4.6875"
            ]
          },
          "metadata": {},
          "execution_count": 12
        }
      ]
    },
    {
      "cell_type": "code",
      "source": [
        "# Train the model\n",
        "history=model.fit(X_train, y_train, epochs=100, batch_size=32, verbose=1,\n",
        "                  validation_data=(X_test,y_test))"
      ],
      "metadata": {
        "colab": {
          "base_uri": "https://localhost:8080/"
        },
        "id": "Nv55TlyQk5_1",
        "outputId": "6e0c232a-33a3-4992-ac46-8fbaf8d086f4"
      },
      "execution_count": 13,
      "outputs": [
        {
          "output_type": "stream",
          "name": "stdout",
          "text": [
            "Epoch 1/100\n",
            "4/4 [==============================] - 1s 81ms/step - loss: 1.0622 - accuracy: 0.4333 - val_loss: 0.9598 - val_accuracy: 0.9000\n",
            "Epoch 2/100\n",
            "4/4 [==============================] - 0s 12ms/step - loss: 0.9422 - accuracy: 0.8167 - val_loss: 0.8557 - val_accuracy: 0.9000\n",
            "Epoch 3/100\n",
            "4/4 [==============================] - 0s 19ms/step - loss: 0.8452 - accuracy: 0.8250 - val_loss: 0.7628 - val_accuracy: 0.9000\n",
            "Epoch 4/100\n",
            "4/4 [==============================] - 0s 12ms/step - loss: 0.7629 - accuracy: 0.8500 - val_loss: 0.6792 - val_accuracy: 0.9000\n",
            "Epoch 5/100\n",
            "4/4 [==============================] - 0s 12ms/step - loss: 0.6831 - accuracy: 0.8500 - val_loss: 0.6073 - val_accuracy: 0.9000\n",
            "Epoch 6/100\n",
            "4/4 [==============================] - 0s 14ms/step - loss: 0.6196 - accuracy: 0.8500 - val_loss: 0.5452 - val_accuracy: 0.9000\n",
            "Epoch 7/100\n",
            "4/4 [==============================] - 0s 12ms/step - loss: 0.5671 - accuracy: 0.8417 - val_loss: 0.4936 - val_accuracy: 0.9000\n",
            "Epoch 8/100\n",
            "4/4 [==============================] - 0s 12ms/step - loss: 0.5233 - accuracy: 0.8417 - val_loss: 0.4504 - val_accuracy: 0.9000\n",
            "Epoch 9/100\n",
            "4/4 [==============================] - 0s 18ms/step - loss: 0.4871 - accuracy: 0.8333 - val_loss: 0.4142 - val_accuracy: 0.9000\n",
            "Epoch 10/100\n",
            "4/4 [==============================] - 0s 12ms/step - loss: 0.4561 - accuracy: 0.8333 - val_loss: 0.3841 - val_accuracy: 0.9000\n",
            "Epoch 11/100\n",
            "4/4 [==============================] - 0s 18ms/step - loss: 0.4299 - accuracy: 0.8500 - val_loss: 0.3575 - val_accuracy: 0.9000\n",
            "Epoch 12/100\n",
            "4/4 [==============================] - 0s 12ms/step - loss: 0.4059 - accuracy: 0.8500 - val_loss: 0.3348 - val_accuracy: 0.9000\n",
            "Epoch 13/100\n",
            "4/4 [==============================] - 0s 12ms/step - loss: 0.3867 - accuracy: 0.8500 - val_loss: 0.3136 - val_accuracy: 0.9000\n",
            "Epoch 14/100\n",
            "4/4 [==============================] - 0s 12ms/step - loss: 0.3678 - accuracy: 0.8583 - val_loss: 0.2953 - val_accuracy: 0.9000\n",
            "Epoch 15/100\n",
            "4/4 [==============================] - 0s 21ms/step - loss: 0.3508 - accuracy: 0.8500 - val_loss: 0.2789 - val_accuracy: 0.9333\n",
            "Epoch 16/100\n",
            "4/4 [==============================] - 0s 12ms/step - loss: 0.3358 - accuracy: 0.8583 - val_loss: 0.2631 - val_accuracy: 0.9333\n",
            "Epoch 17/100\n",
            "4/4 [==============================] - 0s 13ms/step - loss: 0.3219 - accuracy: 0.8667 - val_loss: 0.2496 - val_accuracy: 0.9333\n",
            "Epoch 18/100\n",
            "4/4 [==============================] - 0s 12ms/step - loss: 0.3083 - accuracy: 0.8750 - val_loss: 0.2374 - val_accuracy: 0.9333\n",
            "Epoch 19/100\n",
            "4/4 [==============================] - 0s 12ms/step - loss: 0.2946 - accuracy: 0.8750 - val_loss: 0.2259 - val_accuracy: 0.9333\n",
            "Epoch 20/100\n",
            "4/4 [==============================] - 0s 18ms/step - loss: 0.2828 - accuracy: 0.8833 - val_loss: 0.2156 - val_accuracy: 0.9333\n",
            "Epoch 21/100\n",
            "4/4 [==============================] - 0s 15ms/step - loss: 0.2712 - accuracy: 0.8917 - val_loss: 0.2060 - val_accuracy: 0.9333\n",
            "Epoch 22/100\n",
            "4/4 [==============================] - 0s 12ms/step - loss: 0.2611 - accuracy: 0.9167 - val_loss: 0.1968 - val_accuracy: 0.9333\n",
            "Epoch 23/100\n",
            "4/4 [==============================] - 0s 15ms/step - loss: 0.2491 - accuracy: 0.9250 - val_loss: 0.1878 - val_accuracy: 0.9333\n",
            "Epoch 24/100\n",
            "4/4 [==============================] - 0s 12ms/step - loss: 0.2390 - accuracy: 0.9417 - val_loss: 0.1787 - val_accuracy: 0.9667\n",
            "Epoch 25/100\n",
            "4/4 [==============================] - 0s 12ms/step - loss: 0.2287 - accuracy: 0.9417 - val_loss: 0.1721 - val_accuracy: 0.9333\n",
            "Epoch 26/100\n",
            "4/4 [==============================] - 0s 17ms/step - loss: 0.2171 - accuracy: 0.9333 - val_loss: 0.1648 - val_accuracy: 0.9333\n",
            "Epoch 27/100\n",
            "4/4 [==============================] - 0s 12ms/step - loss: 0.2071 - accuracy: 0.9333 - val_loss: 0.1564 - val_accuracy: 0.9667\n",
            "Epoch 28/100\n",
            "4/4 [==============================] - 0s 12ms/step - loss: 0.1974 - accuracy: 0.9500 - val_loss: 0.1491 - val_accuracy: 0.9667\n",
            "Epoch 29/100\n",
            "4/4 [==============================] - 0s 12ms/step - loss: 0.1886 - accuracy: 0.9500 - val_loss: 0.1425 - val_accuracy: 1.0000\n",
            "Epoch 30/100\n",
            "4/4 [==============================] - 0s 12ms/step - loss: 0.1791 - accuracy: 0.9500 - val_loss: 0.1343 - val_accuracy: 1.0000\n",
            "Epoch 31/100\n",
            "4/4 [==============================] - 0s 12ms/step - loss: 0.1720 - accuracy: 0.9583 - val_loss: 0.1286 - val_accuracy: 1.0000\n",
            "Epoch 32/100\n",
            "4/4 [==============================] - 0s 12ms/step - loss: 0.1638 - accuracy: 0.9583 - val_loss: 0.1220 - val_accuracy: 1.0000\n",
            "Epoch 33/100\n",
            "4/4 [==============================] - 0s 13ms/step - loss: 0.1565 - accuracy: 0.9583 - val_loss: 0.1165 - val_accuracy: 1.0000\n",
            "Epoch 34/100\n",
            "4/4 [==============================] - 0s 12ms/step - loss: 0.1500 - accuracy: 0.9500 - val_loss: 0.1111 - val_accuracy: 1.0000\n",
            "Epoch 35/100\n",
            "4/4 [==============================] - 0s 21ms/step - loss: 0.1436 - accuracy: 0.9583 - val_loss: 0.1063 - val_accuracy: 1.0000\n",
            "Epoch 36/100\n",
            "4/4 [==============================] - 0s 12ms/step - loss: 0.1370 - accuracy: 0.9500 - val_loss: 0.1012 - val_accuracy: 1.0000\n",
            "Epoch 37/100\n",
            "4/4 [==============================] - 0s 12ms/step - loss: 0.1314 - accuracy: 0.9583 - val_loss: 0.0986 - val_accuracy: 1.0000\n",
            "Epoch 38/100\n",
            "4/4 [==============================] - 0s 13ms/step - loss: 0.1269 - accuracy: 0.9667 - val_loss: 0.0944 - val_accuracy: 1.0000\n",
            "Epoch 39/100\n",
            "4/4 [==============================] - 0s 12ms/step - loss: 0.1218 - accuracy: 0.9667 - val_loss: 0.0912 - val_accuracy: 1.0000\n",
            "Epoch 40/100\n",
            "4/4 [==============================] - 0s 13ms/step - loss: 0.1164 - accuracy: 0.9667 - val_loss: 0.0898 - val_accuracy: 1.0000\n",
            "Epoch 41/100\n",
            "4/4 [==============================] - 0s 12ms/step - loss: 0.1129 - accuracy: 0.9667 - val_loss: 0.0886 - val_accuracy: 0.9667\n",
            "Epoch 42/100\n",
            "4/4 [==============================] - 0s 11ms/step - loss: 0.1091 - accuracy: 0.9583 - val_loss: 0.0860 - val_accuracy: 1.0000\n",
            "Epoch 43/100\n",
            "4/4 [==============================] - 0s 12ms/step - loss: 0.1039 - accuracy: 0.9667 - val_loss: 0.0816 - val_accuracy: 1.0000\n",
            "Epoch 44/100\n",
            "4/4 [==============================] - 0s 14ms/step - loss: 0.1011 - accuracy: 0.9750 - val_loss: 0.0799 - val_accuracy: 1.0000\n",
            "Epoch 45/100\n",
            "4/4 [==============================] - 0s 12ms/step - loss: 0.0974 - accuracy: 0.9750 - val_loss: 0.0763 - val_accuracy: 1.0000\n",
            "Epoch 46/100\n",
            "4/4 [==============================] - 0s 12ms/step - loss: 0.0942 - accuracy: 0.9750 - val_loss: 0.0733 - val_accuracy: 1.0000\n",
            "Epoch 47/100\n",
            "4/4 [==============================] - 0s 12ms/step - loss: 0.0911 - accuracy: 0.9750 - val_loss: 0.0719 - val_accuracy: 1.0000\n",
            "Epoch 48/100\n",
            "4/4 [==============================] - 0s 12ms/step - loss: 0.0884 - accuracy: 0.9667 - val_loss: 0.0714 - val_accuracy: 1.0000\n",
            "Epoch 49/100\n",
            "4/4 [==============================] - 0s 13ms/step - loss: 0.0865 - accuracy: 0.9667 - val_loss: 0.0695 - val_accuracy: 1.0000\n",
            "Epoch 50/100\n",
            "4/4 [==============================] - 0s 12ms/step - loss: 0.0838 - accuracy: 0.9750 - val_loss: 0.0684 - val_accuracy: 1.0000\n",
            "Epoch 51/100\n",
            "4/4 [==============================] - 0s 12ms/step - loss: 0.0812 - accuracy: 0.9750 - val_loss: 0.0653 - val_accuracy: 1.0000\n",
            "Epoch 52/100\n",
            "4/4 [==============================] - 0s 12ms/step - loss: 0.0793 - accuracy: 0.9667 - val_loss: 0.0623 - val_accuracy: 1.0000\n",
            "Epoch 53/100\n",
            "4/4 [==============================] - 0s 12ms/step - loss: 0.0781 - accuracy: 0.9667 - val_loss: 0.0577 - val_accuracy: 1.0000\n",
            "Epoch 54/100\n",
            "4/4 [==============================] - 0s 12ms/step - loss: 0.0754 - accuracy: 0.9667 - val_loss: 0.0570 - val_accuracy: 1.0000\n",
            "Epoch 55/100\n",
            "4/4 [==============================] - 0s 13ms/step - loss: 0.0747 - accuracy: 0.9667 - val_loss: 0.0553 - val_accuracy: 1.0000\n",
            "Epoch 56/100\n",
            "4/4 [==============================] - 0s 15ms/step - loss: 0.0723 - accuracy: 0.9667 - val_loss: 0.0545 - val_accuracy: 1.0000\n",
            "Epoch 57/100\n",
            "4/4 [==============================] - 0s 12ms/step - loss: 0.0705 - accuracy: 0.9750 - val_loss: 0.0533 - val_accuracy: 1.0000\n",
            "Epoch 58/100\n",
            "4/4 [==============================] - 0s 11ms/step - loss: 0.0691 - accuracy: 0.9667 - val_loss: 0.0536 - val_accuracy: 1.0000\n",
            "Epoch 59/100\n",
            "4/4 [==============================] - 0s 12ms/step - loss: 0.0678 - accuracy: 0.9750 - val_loss: 0.0517 - val_accuracy: 1.0000\n",
            "Epoch 60/100\n",
            "4/4 [==============================] - 0s 12ms/step - loss: 0.0684 - accuracy: 0.9750 - val_loss: 0.0519 - val_accuracy: 1.0000\n",
            "Epoch 61/100\n",
            "4/4 [==============================] - 0s 13ms/step - loss: 0.0655 - accuracy: 0.9833 - val_loss: 0.0485 - val_accuracy: 1.0000\n",
            "Epoch 62/100\n",
            "4/4 [==============================] - 0s 12ms/step - loss: 0.0643 - accuracy: 0.9833 - val_loss: 0.0466 - val_accuracy: 1.0000\n",
            "Epoch 63/100\n",
            "4/4 [==============================] - 0s 13ms/step - loss: 0.0634 - accuracy: 0.9833 - val_loss: 0.0461 - val_accuracy: 1.0000\n",
            "Epoch 64/100\n",
            "4/4 [==============================] - 0s 13ms/step - loss: 0.0621 - accuracy: 0.9833 - val_loss: 0.0448 - val_accuracy: 1.0000\n",
            "Epoch 65/100\n",
            "4/4 [==============================] - 0s 12ms/step - loss: 0.0615 - accuracy: 0.9833 - val_loss: 0.0467 - val_accuracy: 1.0000\n",
            "Epoch 66/100\n",
            "4/4 [==============================] - 0s 13ms/step - loss: 0.0606 - accuracy: 0.9833 - val_loss: 0.0447 - val_accuracy: 1.0000\n",
            "Epoch 67/100\n",
            "4/4 [==============================] - 0s 13ms/step - loss: 0.0595 - accuracy: 0.9750 - val_loss: 0.0429 - val_accuracy: 1.0000\n",
            "Epoch 68/100\n",
            "4/4 [==============================] - 0s 12ms/step - loss: 0.0590 - accuracy: 0.9833 - val_loss: 0.0424 - val_accuracy: 1.0000\n",
            "Epoch 69/100\n",
            "4/4 [==============================] - 0s 12ms/step - loss: 0.0582 - accuracy: 0.9833 - val_loss: 0.0416 - val_accuracy: 1.0000\n",
            "Epoch 70/100\n",
            "4/4 [==============================] - 0s 12ms/step - loss: 0.0571 - accuracy: 0.9833 - val_loss: 0.0411 - val_accuracy: 1.0000\n",
            "Epoch 71/100\n",
            "4/4 [==============================] - 0s 12ms/step - loss: 0.0559 - accuracy: 0.9833 - val_loss: 0.0408 - val_accuracy: 1.0000\n",
            "Epoch 72/100\n",
            "4/4 [==============================] - 0s 12ms/step - loss: 0.0579 - accuracy: 0.9750 - val_loss: 0.0401 - val_accuracy: 1.0000\n",
            "Epoch 73/100\n",
            "4/4 [==============================] - 0s 12ms/step - loss: 0.0577 - accuracy: 0.9750 - val_loss: 0.0429 - val_accuracy: 1.0000\n",
            "Epoch 74/100\n",
            "4/4 [==============================] - 0s 14ms/step - loss: 0.0552 - accuracy: 0.9833 - val_loss: 0.0418 - val_accuracy: 1.0000\n",
            "Epoch 75/100\n",
            "4/4 [==============================] - 0s 12ms/step - loss: 0.0536 - accuracy: 0.9833 - val_loss: 0.0412 - val_accuracy: 1.0000\n",
            "Epoch 76/100\n",
            "4/4 [==============================] - 0s 13ms/step - loss: 0.0540 - accuracy: 0.9833 - val_loss: 0.0385 - val_accuracy: 1.0000\n",
            "Epoch 77/100\n",
            "4/4 [==============================] - 0s 15ms/step - loss: 0.0535 - accuracy: 0.9833 - val_loss: 0.0378 - val_accuracy: 1.0000\n",
            "Epoch 78/100\n",
            "4/4 [==============================] - 0s 12ms/step - loss: 0.0521 - accuracy: 0.9833 - val_loss: 0.0364 - val_accuracy: 1.0000\n",
            "Epoch 79/100\n",
            "4/4 [==============================] - 0s 12ms/step - loss: 0.0514 - accuracy: 0.9833 - val_loss: 0.0359 - val_accuracy: 1.0000\n",
            "Epoch 80/100\n",
            "4/4 [==============================] - 0s 12ms/step - loss: 0.0506 - accuracy: 0.9833 - val_loss: 0.0336 - val_accuracy: 1.0000\n",
            "Epoch 81/100\n",
            "4/4 [==============================] - 0s 12ms/step - loss: 0.0509 - accuracy: 0.9833 - val_loss: 0.0325 - val_accuracy: 1.0000\n",
            "Epoch 82/100\n",
            "4/4 [==============================] - 0s 13ms/step - loss: 0.0503 - accuracy: 0.9833 - val_loss: 0.0328 - val_accuracy: 1.0000\n",
            "Epoch 83/100\n",
            "4/4 [==============================] - 0s 18ms/step - loss: 0.0496 - accuracy: 0.9833 - val_loss: 0.0340 - val_accuracy: 1.0000\n",
            "Epoch 84/100\n",
            "4/4 [==============================] - 0s 12ms/step - loss: 0.0492 - accuracy: 0.9833 - val_loss: 0.0350 - val_accuracy: 1.0000\n",
            "Epoch 85/100\n",
            "4/4 [==============================] - 0s 13ms/step - loss: 0.0488 - accuracy: 0.9833 - val_loss: 0.0324 - val_accuracy: 1.0000\n",
            "Epoch 86/100\n",
            "4/4 [==============================] - 0s 18ms/step - loss: 0.0491 - accuracy: 0.9833 - val_loss: 0.0305 - val_accuracy: 1.0000\n",
            "Epoch 87/100\n",
            "4/4 [==============================] - 0s 14ms/step - loss: 0.0485 - accuracy: 0.9833 - val_loss: 0.0295 - val_accuracy: 1.0000\n",
            "Epoch 88/100\n",
            "4/4 [==============================] - 0s 12ms/step - loss: 0.0494 - accuracy: 0.9833 - val_loss: 0.0291 - val_accuracy: 1.0000\n",
            "Epoch 89/100\n",
            "4/4 [==============================] - 0s 12ms/step - loss: 0.0479 - accuracy: 0.9833 - val_loss: 0.0291 - val_accuracy: 1.0000\n",
            "Epoch 90/100\n",
            "4/4 [==============================] - 0s 12ms/step - loss: 0.0481 - accuracy: 0.9833 - val_loss: 0.0297 - val_accuracy: 1.0000\n",
            "Epoch 91/100\n",
            "4/4 [==============================] - 0s 12ms/step - loss: 0.0469 - accuracy: 0.9833 - val_loss: 0.0285 - val_accuracy: 1.0000\n",
            "Epoch 92/100\n",
            "4/4 [==============================] - 0s 12ms/step - loss: 0.0484 - accuracy: 0.9833 - val_loss: 0.0261 - val_accuracy: 1.0000\n",
            "Epoch 93/100\n",
            "4/4 [==============================] - 0s 12ms/step - loss: 0.0459 - accuracy: 0.9833 - val_loss: 0.0260 - val_accuracy: 1.0000\n",
            "Epoch 94/100\n",
            "4/4 [==============================] - 0s 12ms/step - loss: 0.0472 - accuracy: 0.9833 - val_loss: 0.0275 - val_accuracy: 1.0000\n",
            "Epoch 95/100\n",
            "4/4 [==============================] - 0s 12ms/step - loss: 0.0456 - accuracy: 0.9833 - val_loss: 0.0262 - val_accuracy: 1.0000\n",
            "Epoch 96/100\n",
            "4/4 [==============================] - 0s 13ms/step - loss: 0.0453 - accuracy: 0.9833 - val_loss: 0.0262 - val_accuracy: 1.0000\n",
            "Epoch 97/100\n",
            "4/4 [==============================] - 0s 12ms/step - loss: 0.0446 - accuracy: 0.9833 - val_loss: 0.0260 - val_accuracy: 1.0000\n",
            "Epoch 98/100\n",
            "4/4 [==============================] - 0s 16ms/step - loss: 0.0453 - accuracy: 0.9833 - val_loss: 0.0261 - val_accuracy: 1.0000\n",
            "Epoch 99/100\n",
            "4/4 [==============================] - 0s 12ms/step - loss: 0.0442 - accuracy: 0.9833 - val_loss: 0.0250 - val_accuracy: 1.0000\n",
            "Epoch 100/100\n",
            "4/4 [==============================] - 0s 13ms/step - loss: 0.0437 - accuracy: 0.9833 - val_loss: 0.0239 - val_accuracy: 1.0000\n"
          ]
        }
      ]
    },
    {
      "cell_type": "code",
      "source": [
        "history.params"
      ],
      "metadata": {
        "colab": {
          "base_uri": "https://localhost:8080/"
        },
        "id": "744nCvt2k7Tb",
        "outputId": "42dcb983-77b9-4d82-95b7-89da8a9ff73e"
      },
      "execution_count": 14,
      "outputs": [
        {
          "output_type": "execute_result",
          "data": {
            "text/plain": [
              "{'verbose': 1, 'epochs': 100, 'steps': 4}"
            ]
          },
          "metadata": {},
          "execution_count": 14
        }
      ]
    },
    {
      "cell_type": "code",
      "source": [
        "X_train.shape"
      ],
      "metadata": {
        "colab": {
          "base_uri": "https://localhost:8080/"
        },
        "id": "t6D_-rt-lBq5",
        "outputId": "fc5a0a45-fda3-4697-8b75-9f0546482e4f"
      },
      "execution_count": 15,
      "outputs": [
        {
          "output_type": "execute_result",
          "data": {
            "text/plain": [
              "(120, 4)"
            ]
          },
          "metadata": {},
          "execution_count": 15
        }
      ]
    },
    {
      "cell_type": "code",
      "source": [
        "# Evaluate the model on the test set\n",
        "loss, accuracy = model.evaluate(X_test, y_test)\n",
        "print(\"Test Loss:\", loss)\n",
        "print(\"Test Accuracy:\", accuracy)"
      ],
      "metadata": {
        "colab": {
          "base_uri": "https://localhost:8080/"
        },
        "id": "Qr6_FtablJb0",
        "outputId": "8105a015-62a4-425a-bb68-8062d69598b3"
      },
      "execution_count": 17,
      "outputs": [
        {
          "output_type": "stream",
          "name": "stdout",
          "text": [
            "1/1 [==============================] - 0s 65ms/step - loss: 0.0239 - accuracy: 1.0000\n",
            "Test Loss: 0.023855816572904587\n",
            "Test Accuracy: 1.0\n"
          ]
        }
      ]
    },
    {
      "cell_type": "code",
      "source": [
        "model.summary()"
      ],
      "metadata": {
        "colab": {
          "base_uri": "https://localhost:8080/"
        },
        "id": "v6Y4noLilS0U",
        "outputId": "7ef062af-a53e-48c6-cd3f-efb9ec45830b"
      },
      "execution_count": 18,
      "outputs": [
        {
          "output_type": "stream",
          "name": "stdout",
          "text": [
            "Model: \"sequential\"\n",
            "_________________________________________________________________\n",
            " Layer (type)                Output Shape              Param #   \n",
            "=================================================================\n",
            " dense (Dense)               (None, 100)               500       \n",
            "                                                                 \n",
            " dense_1 (Dense)             (None, 50)                5050      \n",
            "                                                                 \n",
            " dense_2 (Dense)             (None, 3)                 153       \n",
            "                                                                 \n",
            "=================================================================\n",
            "Total params: 5703 (22.28 KB)\n",
            "Trainable params: 5703 (22.28 KB)\n",
            "Non-trainable params: 0 (0.00 Byte)\n",
            "_________________________________________________________________\n"
          ]
        }
      ]
    },
    {
      "cell_type": "code",
      "source": [
        "# Plot accuracy and loss versus epoch\n",
        "import matplotlib.pyplot as plt\n",
        "plt.plot(history.history['accuracy'], label='Train Accuracy')\n",
        "plt.plot(history.history['val_accuracy'], label='Validation Accuracy')\n",
        "plt.xlabel('Epoch')\n",
        "plt.ylabel('Accuracy')\n",
        "plt.legend()\n",
        "plt.show()"
      ],
      "metadata": {
        "colab": {
          "base_uri": "https://localhost:8080/",
          "height": 449
        },
        "id": "uhaQUj2klYbE",
        "outputId": "f2c02be3-c9d2-4795-a99d-03a674d11f8c"
      },
      "execution_count": 19,
      "outputs": [
        {
          "output_type": "display_data",
          "data": {
            "text/plain": [
              "<Figure size 640x480 with 1 Axes>"
            ],
            "image/png": "[encoded data removed]"
          },
          "metadata": {}
        }
      ]
    },
    {
      "cell_type": "code",
      "source": [
        "plt.plot(history.history['loss'], label='Train Loss')\n",
        "plt.plot(history.history['val_loss'], label='Validation Loss')\n",
        "plt.xlabel('Epoch')\n",
        "plt.ylabel('Loss')\n",
        "plt.legend()\n",
        "plt.show()"
      ],
      "metadata": {
        "colab": {
          "base_uri": "https://localhost:8080/",
          "height": 449
        },
        "id": "7AInM59aldLE",
        "outputId": "fab7151c-14a2-4111-e716-7829b8a787d9"
      },
      "execution_count": 20,
      "outputs": [
        {
          "output_type": "display_data",
          "data": {
            "text/plain": [
              "<Figure size 640x480 with 1 Axes>"
            ],
            "image/png": "[encoded data removed]"
          },
          "metadata": {}
        }
      ]
    },
    {
      "cell_type": "markdown",
      "source": [
        "##Training loss and testing loss are almost same. So this is a good fitting model."
      ],
      "metadata": {
        "id": "kwKfV0dOli_T"
      }
    },
    {
      "cell_type": "code",
      "source": [
        "#same model done using keras from tensorflow\n",
        "#good practice\n",
        "from sklearn.datasets import load_iris\n",
        "from sklearn.model_selection import train_test_split\n",
        "from sklearn.preprocessing import StandardScaler\n",
        "import numpy as np\n",
        "import tensorflow as tf\n",
        "from tensorflow.keras.models import Sequential\n",
        "from tensorflow.keras.layers import Dense\n",
        "from tensorflow.keras.optimizers import Adam\n",
        "\n",
        "# Load the Iris dataset\n",
        "iris = load_iris()\n",
        "X, y = iris.data, iris.target\n",
        "\n",
        "# Split the dataset into training and testing sets\n",
        "X_train, X_test, y_train, y_test = train_test_split(X, y, test_size=0.2, random_state=42)\n",
        "\n",
        "# Standardize the features\n",
        "scaler = StandardScaler()\n",
        "X_train = scaler.fit_transform(X_train)\n",
        "X_test = scaler.transform(X_test)\n",
        "\n",
        "# Convert labels to one-hot encoded format\n",
        "y_train_one_hot = tf.keras.utils.to_categorical(y_train, num_classes=3)\n",
        "y_test_one_hot = tf.keras.utils.to_categorical(y_test, num_classes=3)\n",
        "\n",
        "# Define and compile your model\n",
        "model = Sequential()\n",
        "model.add(Dense(100, activation='relu', input_dim=4))\n",
        "model.add(Dense(50, activation='relu'))\n",
        "model.add(Dense(3, activation='softmax'))\n",
        "model.compile(optimizer=Adam(learning_rate=0.001), loss='categorical_crossentropy', metrics=['accuracy'])\n",
        "# Train your model\n",
        "history = model.fit(X_train, y_train_one_hot, epochs=100, batch_size=32, verbose=1, validation_data=(X_test, y_test_one_hot))\n",
        ""
      ],
      "metadata": {
        "colab": {
          "base_uri": "https://localhost:8080/"
        },
        "id": "Ci1VL_cHlkzE",
        "outputId": "bd2db51d-960e-4934-9012-a334f4ebf620"
      },
      "execution_count": 21,
      "outputs": [
        {
          "output_type": "stream",
          "name": "stdout",
          "text": [
            "Epoch 1/100\n",
            "4/4 [==============================] - 1s 65ms/step - loss: 1.0431 - accuracy: 0.4167 - val_loss: 0.9238 - val_accuracy: 0.8667\n",
            "Epoch 2/100\n",
            "4/4 [==============================] - 0s 13ms/step - loss: 0.9144 - accuracy: 0.8000 - val_loss: 0.8081 - val_accuracy: 0.8667\n",
            "Epoch 3/100\n",
            "4/4 [==============================] - 0s 13ms/step - loss: 0.8113 - accuracy: 0.8083 - val_loss: 0.7101 - val_accuracy: 0.8667\n",
            "Epoch 4/100\n",
            "4/4 [==============================] - 0s 12ms/step - loss: 0.7224 - accuracy: 0.8167 - val_loss: 0.6288 - val_accuracy: 0.8667\n",
            "Epoch 5/100\n",
            "4/4 [==============================] - 0s 12ms/step - loss: 0.6504 - accuracy: 0.8083 - val_loss: 0.5599 - val_accuracy: 0.8667\n",
            "Epoch 6/100\n",
            "4/4 [==============================] - 0s 12ms/step - loss: 0.5887 - accuracy: 0.8167 - val_loss: 0.5022 - val_accuracy: 0.8667\n",
            "Epoch 7/100\n",
            "4/4 [==============================] - 0s 13ms/step - loss: 0.5390 - accuracy: 0.8250 - val_loss: 0.4545 - val_accuracy: 0.9000\n",
            "Epoch 8/100\n",
            "4/4 [==============================] - 0s 18ms/step - loss: 0.4988 - accuracy: 0.8250 - val_loss: 0.4152 - val_accuracy: 0.9000\n",
            "Epoch 9/100\n",
            "4/4 [==============================] - 0s 12ms/step - loss: 0.4623 - accuracy: 0.8417 - val_loss: 0.3814 - val_accuracy: 0.9000\n",
            "Epoch 10/100\n",
            "4/4 [==============================] - 0s 12ms/step - loss: 0.4317 - accuracy: 0.8417 - val_loss: 0.3523 - val_accuracy: 0.9000\n",
            "Epoch 11/100\n",
            "4/4 [==============================] - 0s 12ms/step - loss: 0.4044 - accuracy: 0.8500 - val_loss: 0.3267 - val_accuracy: 0.9000\n",
            "Epoch 12/100\n",
            "4/4 [==============================] - 0s 13ms/step - loss: 0.3810 - accuracy: 0.8583 - val_loss: 0.3046 - val_accuracy: 0.9333\n",
            "Epoch 13/100\n",
            "4/4 [==============================] - 0s 12ms/step - loss: 0.3586 - accuracy: 0.8500 - val_loss: 0.2848 - val_accuracy: 0.9333\n",
            "Epoch 14/100\n",
            "4/4 [==============================] - 0s 12ms/step - loss: 0.3402 - accuracy: 0.8583 - val_loss: 0.2667 - val_accuracy: 0.9333\n",
            "Epoch 15/100\n",
            "4/4 [==============================] - 0s 15ms/step - loss: 0.3235 - accuracy: 0.8667 - val_loss: 0.2505 - val_accuracy: 0.9333\n",
            "Epoch 16/100\n",
            "4/4 [==============================] - 0s 12ms/step - loss: 0.3080 - accuracy: 0.8667 - val_loss: 0.2365 - val_accuracy: 0.9333\n",
            "Epoch 17/100\n",
            "4/4 [==============================] - 0s 11ms/step - loss: 0.2934 - accuracy: 0.8917 - val_loss: 0.2224 - val_accuracy: 0.9333\n",
            "Epoch 18/100\n",
            "4/4 [==============================] - 0s 11ms/step - loss: 0.2810 - accuracy: 0.8917 - val_loss: 0.2090 - val_accuracy: 0.9333\n",
            "Epoch 19/100\n",
            "4/4 [==============================] - 0s 11ms/step - loss: 0.2676 - accuracy: 0.9083 - val_loss: 0.1974 - val_accuracy: 0.9667\n",
            "Epoch 20/100\n",
            "4/4 [==============================] - 0s 11ms/step - loss: 0.2551 - accuracy: 0.9083 - val_loss: 0.1870 - val_accuracy: 0.9667\n",
            "Epoch 21/100\n",
            "4/4 [==============================] - 0s 12ms/step - loss: 0.2455 - accuracy: 0.9333 - val_loss: 0.1765 - val_accuracy: 0.9667\n",
            "Epoch 22/100\n",
            "4/4 [==============================] - 0s 12ms/step - loss: 0.2325 - accuracy: 0.9417 - val_loss: 0.1677 - val_accuracy: 0.9667\n",
            "Epoch 23/100\n",
            "4/4 [==============================] - 0s 13ms/step - loss: 0.2222 - accuracy: 0.9500 - val_loss: 0.1591 - val_accuracy: 0.9667\n",
            "Epoch 24/100\n",
            "4/4 [==============================] - 0s 12ms/step - loss: 0.2112 - accuracy: 0.9583 - val_loss: 0.1499 - val_accuracy: 0.9667\n",
            "Epoch 25/100\n",
            "4/4 [==============================] - 0s 12ms/step - loss: 0.2011 - accuracy: 0.9583 - val_loss: 0.1417 - val_accuracy: 0.9667\n",
            "Epoch 26/100\n",
            "4/4 [==============================] - 0s 12ms/step - loss: 0.1918 - accuracy: 0.9500 - val_loss: 0.1333 - val_accuracy: 1.0000\n",
            "Epoch 27/100\n",
            "4/4 [==============================] - 0s 12ms/step - loss: 0.1830 - accuracy: 0.9500 - val_loss: 0.1268 - val_accuracy: 1.0000\n",
            "Epoch 28/100\n",
            "4/4 [==============================] - 0s 13ms/step - loss: 0.1728 - accuracy: 0.9583 - val_loss: 0.1195 - val_accuracy: 1.0000\n",
            "Epoch 29/100\n",
            "4/4 [==============================] - 0s 12ms/step - loss: 0.1643 - accuracy: 0.9583 - val_loss: 0.1125 - val_accuracy: 1.0000\n",
            "Epoch 30/100\n",
            "4/4 [==============================] - 0s 14ms/step - loss: 0.1558 - accuracy: 0.9583 - val_loss: 0.1075 - val_accuracy: 1.0000\n",
            "Epoch 31/100\n",
            "4/4 [==============================] - 0s 12ms/step - loss: 0.1493 - accuracy: 0.9583 - val_loss: 0.1029 - val_accuracy: 1.0000\n",
            "Epoch 32/100\n",
            "4/4 [==============================] - 0s 12ms/step - loss: 0.1425 - accuracy: 0.9667 - val_loss: 0.0977 - val_accuracy: 1.0000\n",
            "Epoch 33/100\n",
            "4/4 [==============================] - 0s 13ms/step - loss: 0.1351 - accuracy: 0.9667 - val_loss: 0.0931 - val_accuracy: 1.0000\n",
            "Epoch 34/100\n",
            "4/4 [==============================] - 0s 11ms/step - loss: 0.1309 - accuracy: 0.9583 - val_loss: 0.0877 - val_accuracy: 1.0000\n",
            "Epoch 35/100\n",
            "4/4 [==============================] - 0s 12ms/step - loss: 0.1230 - accuracy: 0.9667 - val_loss: 0.0841 - val_accuracy: 1.0000\n",
            "Epoch 36/100\n",
            "4/4 [==============================] - 0s 13ms/step - loss: 0.1186 - accuracy: 0.9667 - val_loss: 0.0819 - val_accuracy: 1.0000\n",
            "Epoch 37/100\n",
            "4/4 [==============================] - 0s 15ms/step - loss: 0.1150 - accuracy: 0.9667 - val_loss: 0.0773 - val_accuracy: 1.0000\n",
            "Epoch 38/100\n",
            "4/4 [==============================] - 0s 12ms/step - loss: 0.1097 - accuracy: 0.9667 - val_loss: 0.0759 - val_accuracy: 1.0000\n",
            "Epoch 39/100\n",
            "4/4 [==============================] - 0s 12ms/step - loss: 0.1053 - accuracy: 0.9667 - val_loss: 0.0750 - val_accuracy: 1.0000\n",
            "Epoch 40/100\n",
            "4/4 [==============================] - 0s 12ms/step - loss: 0.1025 - accuracy: 0.9750 - val_loss: 0.0731 - val_accuracy: 1.0000\n",
            "Epoch 41/100\n",
            "4/4 [==============================] - 0s 12ms/step - loss: 0.0975 - accuracy: 0.9750 - val_loss: 0.0699 - val_accuracy: 1.0000\n",
            "Epoch 42/100\n",
            "4/4 [==============================] - 0s 13ms/step - loss: 0.0966 - accuracy: 0.9667 - val_loss: 0.0675 - val_accuracy: 1.0000\n",
            "Epoch 43/100\n",
            "4/4 [==============================] - 0s 12ms/step - loss: 0.0917 - accuracy: 0.9667 - val_loss: 0.0624 - val_accuracy: 1.0000\n",
            "Epoch 44/100\n",
            "4/4 [==============================] - 0s 13ms/step - loss: 0.0896 - accuracy: 0.9667 - val_loss: 0.0582 - val_accuracy: 1.0000\n",
            "Epoch 45/100\n",
            "4/4 [==============================] - 0s 12ms/step - loss: 0.0860 - accuracy: 0.9750 - val_loss: 0.0547 - val_accuracy: 1.0000\n",
            "Epoch 46/100\n",
            "4/4 [==============================] - 0s 12ms/step - loss: 0.0830 - accuracy: 0.9750 - val_loss: 0.0523 - val_accuracy: 1.0000\n",
            "Epoch 47/100\n",
            "4/4 [==============================] - 0s 12ms/step - loss: 0.0810 - accuracy: 0.9750 - val_loss: 0.0503 - val_accuracy: 1.0000\n",
            "Epoch 48/100\n",
            "4/4 [==============================] - 0s 12ms/step - loss: 0.0785 - accuracy: 0.9667 - val_loss: 0.0492 - val_accuracy: 1.0000\n",
            "Epoch 49/100\n",
            "4/4 [==============================] - 0s 12ms/step - loss: 0.0774 - accuracy: 0.9750 - val_loss: 0.0497 - val_accuracy: 1.0000\n",
            "Epoch 50/100\n",
            "4/4 [==============================] - 0s 12ms/step - loss: 0.0744 - accuracy: 0.9750 - val_loss: 0.0487 - val_accuracy: 1.0000\n",
            "Epoch 51/100\n",
            "4/4 [==============================] - 0s 13ms/step - loss: 0.0728 - accuracy: 0.9750 - val_loss: 0.0481 - val_accuracy: 1.0000\n",
            "Epoch 52/100\n",
            "4/4 [==============================] - 0s 12ms/step - loss: 0.0715 - accuracy: 0.9750 - val_loss: 0.0479 - val_accuracy: 1.0000\n",
            "Epoch 53/100\n",
            "4/4 [==============================] - 0s 12ms/step - loss: 0.0703 - accuracy: 0.9750 - val_loss: 0.0462 - val_accuracy: 1.0000\n",
            "Epoch 54/100\n",
            "4/4 [==============================] - 0s 12ms/step - loss: 0.0685 - accuracy: 0.9750 - val_loss: 0.0443 - val_accuracy: 1.0000\n",
            "Epoch 55/100\n",
            "4/4 [==============================] - 0s 12ms/step - loss: 0.0672 - accuracy: 0.9750 - val_loss: 0.0427 - val_accuracy: 1.0000\n",
            "Epoch 56/100\n",
            "4/4 [==============================] - 0s 12ms/step - loss: 0.0674 - accuracy: 0.9833 - val_loss: 0.0414 - val_accuracy: 1.0000\n",
            "Epoch 57/100\n",
            "4/4 [==============================] - 0s 12ms/step - loss: 0.0652 - accuracy: 0.9750 - val_loss: 0.0395 - val_accuracy: 1.0000\n",
            "Epoch 58/100\n",
            "4/4 [==============================] - 0s 14ms/step - loss: 0.0637 - accuracy: 0.9750 - val_loss: 0.0379 - val_accuracy: 1.0000\n",
            "Epoch 59/100\n",
            "4/4 [==============================] - 0s 12ms/step - loss: 0.0628 - accuracy: 0.9750 - val_loss: 0.0382 - val_accuracy: 1.0000\n",
            "Epoch 60/100\n",
            "4/4 [==============================] - 0s 12ms/step - loss: 0.0624 - accuracy: 0.9750 - val_loss: 0.0375 - val_accuracy: 1.0000\n",
            "Epoch 61/100\n",
            "4/4 [==============================] - 0s 12ms/step - loss: 0.0618 - accuracy: 0.9750 - val_loss: 0.0366 - val_accuracy: 1.0000\n",
            "Epoch 62/100\n",
            "4/4 [==============================] - 0s 12ms/step - loss: 0.0631 - accuracy: 0.9750 - val_loss: 0.0372 - val_accuracy: 1.0000\n",
            "Epoch 63/100\n",
            "4/4 [==============================] - 0s 15ms/step - loss: 0.0625 - accuracy: 0.9750 - val_loss: 0.0352 - val_accuracy: 1.0000\n",
            "Epoch 64/100\n",
            "4/4 [==============================] - 0s 11ms/step - loss: 0.0594 - accuracy: 0.9750 - val_loss: 0.0348 - val_accuracy: 1.0000\n",
            "Epoch 65/100\n",
            "4/4 [==============================] - 0s 13ms/step - loss: 0.0577 - accuracy: 0.9750 - val_loss: 0.0338 - val_accuracy: 1.0000\n",
            "Epoch 66/100\n",
            "4/4 [==============================] - 0s 12ms/step - loss: 0.0600 - accuracy: 0.9750 - val_loss: 0.0349 - val_accuracy: 1.0000\n",
            "Epoch 67/100\n",
            "4/4 [==============================] - 0s 12ms/step - loss: 0.0613 - accuracy: 0.9750 - val_loss: 0.0315 - val_accuracy: 1.0000\n",
            "Epoch 68/100\n",
            "4/4 [==============================] - 0s 12ms/step - loss: 0.0562 - accuracy: 0.9750 - val_loss: 0.0311 - val_accuracy: 1.0000\n",
            "Epoch 69/100\n",
            "4/4 [==============================] - 0s 13ms/step - loss: 0.0556 - accuracy: 0.9750 - val_loss: 0.0299 - val_accuracy: 1.0000\n",
            "Epoch 70/100\n",
            "4/4 [==============================] - 0s 12ms/step - loss: 0.0554 - accuracy: 0.9750 - val_loss: 0.0299 - val_accuracy: 1.0000\n",
            "Epoch 71/100\n",
            "4/4 [==============================] - 0s 13ms/step - loss: 0.0541 - accuracy: 0.9750 - val_loss: 0.0299 - val_accuracy: 1.0000\n",
            "Epoch 72/100\n",
            "4/4 [==============================] - 0s 13ms/step - loss: 0.0535 - accuracy: 0.9750 - val_loss: 0.0289 - val_accuracy: 1.0000\n",
            "Epoch 73/100\n",
            "4/4 [==============================] - 0s 12ms/step - loss: 0.0531 - accuracy: 0.9750 - val_loss: 0.0283 - val_accuracy: 1.0000\n",
            "Epoch 74/100\n",
            "4/4 [==============================] - 0s 12ms/step - loss: 0.0536 - accuracy: 0.9750 - val_loss: 0.0279 - val_accuracy: 1.0000\n",
            "Epoch 75/100\n",
            "4/4 [==============================] - 0s 18ms/step - loss: 0.0519 - accuracy: 0.9750 - val_loss: 0.0281 - val_accuracy: 1.0000\n",
            "Epoch 76/100\n",
            "4/4 [==============================] - 0s 12ms/step - loss: 0.0529 - accuracy: 0.9750 - val_loss: 0.0288 - val_accuracy: 1.0000\n",
            "Epoch 77/100\n",
            "4/4 [==============================] - 0s 12ms/step - loss: 0.0517 - accuracy: 0.9833 - val_loss: 0.0277 - val_accuracy: 1.0000\n",
            "Epoch 78/100\n",
            "4/4 [==============================] - 0s 18ms/step - loss: 0.0507 - accuracy: 0.9833 - val_loss: 0.0273 - val_accuracy: 1.0000\n",
            "Epoch 79/100\n",
            "4/4 [==============================] - 0s 16ms/step - loss: 0.0505 - accuracy: 0.9750 - val_loss: 0.0257 - val_accuracy: 1.0000\n",
            "Epoch 80/100\n",
            "4/4 [==============================] - 0s 12ms/step - loss: 0.0512 - accuracy: 0.9750 - val_loss: 0.0248 - val_accuracy: 1.0000\n",
            "Epoch 81/100\n",
            "4/4 [==============================] - 0s 13ms/step - loss: 0.0498 - accuracy: 0.9750 - val_loss: 0.0243 - val_accuracy: 1.0000\n",
            "Epoch 82/100\n",
            "4/4 [==============================] - 0s 14ms/step - loss: 0.0516 - accuracy: 0.9833 - val_loss: 0.0238 - val_accuracy: 1.0000\n",
            "Epoch 83/100\n",
            "4/4 [==============================] - 0s 13ms/step - loss: 0.0500 - accuracy: 0.9833 - val_loss: 0.0237 - val_accuracy: 1.0000\n",
            "Epoch 84/100\n",
            "4/4 [==============================] - 0s 14ms/step - loss: 0.0487 - accuracy: 0.9750 - val_loss: 0.0233 - val_accuracy: 1.0000\n",
            "Epoch 85/100\n",
            "4/4 [==============================] - 0s 12ms/step - loss: 0.0483 - accuracy: 0.9833 - val_loss: 0.0227 - val_accuracy: 1.0000\n",
            "Epoch 86/100\n",
            "4/4 [==============================] - 0s 12ms/step - loss: 0.0496 - accuracy: 0.9750 - val_loss: 0.0229 - val_accuracy: 1.0000\n",
            "Epoch 87/100\n",
            "4/4 [==============================] - 0s 12ms/step - loss: 0.0479 - accuracy: 0.9750 - val_loss: 0.0227 - val_accuracy: 1.0000\n",
            "Epoch 88/100\n",
            "4/4 [==============================] - 0s 18ms/step - loss: 0.0476 - accuracy: 0.9750 - val_loss: 0.0229 - val_accuracy: 1.0000\n",
            "Epoch 89/100\n",
            "4/4 [==============================] - 0s 13ms/step - loss: 0.0477 - accuracy: 0.9833 - val_loss: 0.0227 - val_accuracy: 1.0000\n",
            "Epoch 90/100\n",
            "4/4 [==============================] - 0s 14ms/step - loss: 0.0475 - accuracy: 0.9833 - val_loss: 0.0222 - val_accuracy: 1.0000\n",
            "Epoch 91/100\n",
            "4/4 [==============================] - 0s 15ms/step - loss: 0.0471 - accuracy: 0.9833 - val_loss: 0.0213 - val_accuracy: 1.0000\n",
            "Epoch 92/100\n",
            "4/4 [==============================] - 0s 13ms/step - loss: 0.0459 - accuracy: 0.9750 - val_loss: 0.0208 - val_accuracy: 1.0000\n",
            "Epoch 93/100\n",
            "4/4 [==============================] - 0s 18ms/step - loss: 0.0458 - accuracy: 0.9833 - val_loss: 0.0204 - val_accuracy: 1.0000\n",
            "Epoch 94/100\n",
            "4/4 [==============================] - 0s 12ms/step - loss: 0.0455 - accuracy: 0.9750 - val_loss: 0.0209 - val_accuracy: 1.0000\n",
            "Epoch 95/100\n",
            "4/4 [==============================] - 0s 12ms/step - loss: 0.0455 - accuracy: 0.9750 - val_loss: 0.0207 - val_accuracy: 1.0000\n",
            "Epoch 96/100\n",
            "4/4 [==============================] - 0s 17ms/step - loss: 0.0448 - accuracy: 0.9833 - val_loss: 0.0205 - val_accuracy: 1.0000\n",
            "Epoch 97/100\n",
            "4/4 [==============================] - 0s 23ms/step - loss: 0.0447 - accuracy: 0.9833 - val_loss: 0.0203 - val_accuracy: 1.0000\n",
            "Epoch 98/100\n",
            "4/4 [==============================] - 0s 26ms/step - loss: 0.0441 - accuracy: 0.9833 - val_loss: 0.0206 - val_accuracy: 1.0000\n",
            "Epoch 99/100\n",
            "4/4 [==============================] - 0s 22ms/step - loss: 0.0438 - accuracy: 0.9833 - val_loss: 0.0208 - val_accuracy: 1.0000\n",
            "Epoch 100/100\n",
            "4/4 [==============================] - 0s 24ms/step - loss: 0.0442 - accuracy: 0.9750 - val_loss: 0.0206 - val_accuracy: 1.0000\n"
          ]
        }
      ]
    },
    {
      "cell_type": "code",
      "source": [],
      "metadata": {
        "id": "qE7K_Zaul9Up"
      },
      "execution_count": null,
      "outputs": []
    }
  ]
}